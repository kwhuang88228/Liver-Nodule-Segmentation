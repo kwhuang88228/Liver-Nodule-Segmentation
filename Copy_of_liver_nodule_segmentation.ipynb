{
  "nbformat": 4,
  "nbformat_minor": 0,
  "metadata": {
    "colab": {
      "name": "Copy of liver-nodule-segmentation",
      "provenance": [],
      "collapsed_sections": []
    },
    "kernelspec": {
      "name": "python3",
      "display_name": "Python 3"
    },
    "accelerator": "TPU"
  },
  "cells": [
    {
      "cell_type": "code",
      "metadata": {
        "id": "lM_1Ykz7rMfY",
        "colab_type": "code",
        "colab": {}
      },
      "source": [
        "import cv2\n",
        "import numpy as np\n",
        "import matplotlib.pyplot as plt\n",
        "\n",
        "from skimage import io, data, color, img_as_ubyte\n",
        "from skimage.color import rgb2gray\n",
        "from skimage.morphology import binary_opening, disk\n",
        "from skimage.transform import rescale, resize\n",
        "from skimage.feature import canny\n",
        "from skimage.draw import ellipse_perimeter, line\n",
        "from skimage.measure import find_contours\n",
        "from skimage.util import img_as_ubyte\n",
        "from IPython.utils import traitlets as _traitlets\n",
        "\n",
        "from scipy import ndimage as ndi\n",
        "from PIL import Image\n",
        "from google.colab.patches import cv2_imshow\n",
        "from google.colab import files\n",
        "\n",
        "import sys\n",
        "sys.setrecursionlimit(10000000)"
      ],
      "execution_count": 0,
      "outputs": []
    },
    {
      "cell_type": "code",
      "metadata": {
        "id": "Kx5S1zHaKRE9",
        "colab_type": "code",
        "outputId": "dd031ebb-14a0-4b3c-9e86-75f185af4d42",
        "colab": {
          "base_uri": "https://localhost:8080/",
          "height": 52
        }
      },
      "source": [
        "![picture](https://drive.google.com/uc?id=1d9ttrseJh23lVFNTyWIqXn6d85XAYYPh)"
      ],
      "execution_count": 0,
      "outputs": [
        {
          "output_type": "stream",
          "text": [
            "/bin/bash: -c: line 0: syntax error near unexpected token `https://drive.google.com/uc?id=1d9ttrseJh23lVFNTyWIqXn6d85XAYYPh'\n",
            "/bin/bash: -c: line 0: `[picture](https://drive.google.com/uc?id=1d9ttrseJh23lVFNTyWIqXn6d85XAYYPh)'\n"
          ],
          "name": "stdout"
        }
      ]
    },
    {
      "cell_type": "code",
      "metadata": {
        "id": "zyatBs0mrfw5",
        "colab_type": "code",
        "outputId": "618aa537-78e3-4a0d-bd75-69a505b57028",
        "colab": {
          "resources": {
            "http://localhost:8080/nbextensions/google.colab/files.js": {
              "data": "Ly8gQ29weXJpZ2h0IDIwMTcgR29vZ2xlIExMQwovLwovLyBMaWNlbnNlZCB1bmRlciB0aGUgQXBhY2hlIExpY2Vuc2UsIFZlcnNpb24gMi4wICh0aGUgIkxpY2Vuc2UiKTsKLy8geW91IG1heSBub3QgdXNlIHRoaXMgZmlsZSBleGNlcHQgaW4gY29tcGxpYW5jZSB3aXRoIHRoZSBMaWNlbnNlLgovLyBZb3UgbWF5IG9idGFpbiBhIGNvcHkgb2YgdGhlIExpY2Vuc2UgYXQKLy8KLy8gICAgICBodHRwOi8vd3d3LmFwYWNoZS5vcmcvbGljZW5zZXMvTElDRU5TRS0yLjAKLy8KLy8gVW5sZXNzIHJlcXVpcmVkIGJ5IGFwcGxpY2FibGUgbGF3IG9yIGFncmVlZCB0byBpbiB3cml0aW5nLCBzb2Z0d2FyZQovLyBkaXN0cmlidXRlZCB1bmRlciB0aGUgTGljZW5zZSBpcyBkaXN0cmlidXRlZCBvbiBhbiAiQVMgSVMiIEJBU0lTLAovLyBXSVRIT1VUIFdBUlJBTlRJRVMgT1IgQ09ORElUSU9OUyBPRiBBTlkgS0lORCwgZWl0aGVyIGV4cHJlc3Mgb3IgaW1wbGllZC4KLy8gU2VlIHRoZSBMaWNlbnNlIGZvciB0aGUgc3BlY2lmaWMgbGFuZ3VhZ2UgZ292ZXJuaW5nIHBlcm1pc3Npb25zIGFuZAovLyBsaW1pdGF0aW9ucyB1bmRlciB0aGUgTGljZW5zZS4KCi8qKgogKiBAZmlsZW92ZXJ2aWV3IEhlbHBlcnMgZm9yIGdvb2dsZS5jb2xhYiBQeXRob24gbW9kdWxlLgogKi8KKGZ1bmN0aW9uKHNjb3BlKSB7CmZ1bmN0aW9uIHNwYW4odGV4dCwgc3R5bGVBdHRyaWJ1dGVzID0ge30pIHsKICBjb25zdCBlbGVtZW50ID0gZG9jdW1lbnQuY3JlYXRlRWxlbWVudCgnc3BhbicpOwogIGVsZW1lbnQudGV4dENvbnRlbnQgPSB0ZXh0OwogIGZvciAoY29uc3Qga2V5IG9mIE9iamVjdC5rZXlzKHN0eWxlQXR0cmlidXRlcykpIHsKICAgIGVsZW1lbnQuc3R5bGVba2V5XSA9IHN0eWxlQXR0cmlidXRlc1trZXldOwogIH0KICByZXR1cm4gZWxlbWVudDsKfQoKLy8gTWF4IG51bWJlciBvZiBieXRlcyB3aGljaCB3aWxsIGJlIHVwbG9hZGVkIGF0IGEgdGltZS4KY29uc3QgTUFYX1BBWUxPQURfU0laRSA9IDEwMCAqIDEwMjQ7Ci8vIE1heCBhbW91bnQgb2YgdGltZSB0byBibG9jayB3YWl0aW5nIGZvciB0aGUgdXNlci4KY29uc3QgRklMRV9DSEFOR0VfVElNRU9VVF9NUyA9IDMwICogMTAwMDsKCmZ1bmN0aW9uIF91cGxvYWRGaWxlcyhpbnB1dElkLCBvdXRwdXRJZCkgewogIGNvbnN0IHN0ZXBzID0gdXBsb2FkRmlsZXNTdGVwKGlucHV0SWQsIG91dHB1dElkKTsKICBjb25zdCBvdXRwdXRFbGVtZW50ID0gZG9jdW1lbnQuZ2V0RWxlbWVudEJ5SWQob3V0cHV0SWQpOwogIC8vIENhY2hlIHN0ZXBzIG9uIHRoZSBvdXRwdXRFbGVtZW50IHRvIG1ha2UgaXQgYXZhaWxhYmxlIGZvciB0aGUgbmV4dCBjYWxsCiAgLy8gdG8gdXBsb2FkRmlsZXNDb250aW51ZSBmcm9tIFB5dGhvbi4KICBvdXRwdXRFbGVtZW50LnN0ZXBzID0gc3RlcHM7CgogIHJldHVybiBfdXBsb2FkRmlsZXNDb250aW51ZShvdXRwdXRJZCk7Cn0KCi8vIFRoaXMgaXMgcm91Z2hseSBhbiBhc3luYyBnZW5lcmF0b3IgKG5vdCBzdXBwb3J0ZWQgaW4gdGhlIGJyb3dzZXIgeWV0KSwKLy8gd2hlcmUgdGhlcmUgYXJlIG11bHRpcGxlIGFzeW5jaHJvbm91cyBzdGVwcyBhbmQgdGhlIFB5dGhvbiBzaWRlIGlzIGdvaW5nCi8vIHRvIHBvbGwgZm9yIGNvbXBsZXRpb24gb2YgZWFjaCBzdGVwLgovLyBUaGlzIHVzZXMgYSBQcm9taXNlIHRvIGJsb2NrIHRoZSBweXRob24gc2lkZSBvbiBjb21wbGV0aW9uIG9mIGVhY2ggc3RlcCwKLy8gdGhlbiBwYXNzZXMgdGhlIHJlc3VsdCBvZiB0aGUgcHJldmlvdXMgc3RlcCBhcyB0aGUgaW5wdXQgdG8gdGhlIG5leHQgc3RlcC4KZnVuY3Rpb24gX3VwbG9hZEZpbGVzQ29udGludWUob3V0cHV0SWQpIHsKICBjb25zdCBvdXRwdXRFbGVtZW50ID0gZG9jdW1lbnQuZ2V0RWxlbWVudEJ5SWQob3V0cHV0SWQpOwogIGNvbnN0IHN0ZXBzID0gb3V0cHV0RWxlbWVudC5zdGVwczsKCiAgY29uc3QgbmV4dCA9IHN0ZXBzLm5leHQob3V0cHV0RWxlbWVudC5sYXN0UHJvbWlzZVZhbHVlKTsKICByZXR1cm4gUHJvbWlzZS5yZXNvbHZlKG5leHQudmFsdWUucHJvbWlzZSkudGhlbigodmFsdWUpID0+IHsKICAgIC8vIENhY2hlIHRoZSBsYXN0IHByb21pc2UgdmFsdWUgdG8gbWFrZSBpdCBhdmFpbGFibGUgdG8gdGhlIG5leHQKICAgIC8vIHN0ZXAgb2YgdGhlIGdlbmVyYXRvci4KICAgIG91dHB1dEVsZW1lbnQubGFzdFByb21pc2VWYWx1ZSA9IHZhbHVlOwogICAgcmV0dXJuIG5leHQudmFsdWUucmVzcG9uc2U7CiAgfSk7Cn0KCi8qKgogKiBHZW5lcmF0b3IgZnVuY3Rpb24gd2hpY2ggaXMgY2FsbGVkIGJldHdlZW4gZWFjaCBhc3luYyBzdGVwIG9mIHRoZSB1cGxvYWQKICogcHJvY2Vzcy4KICogQHBhcmFtIHtzdHJpbmd9IGlucHV0SWQgRWxlbWVudCBJRCBvZiB0aGUgaW5wdXQgZmlsZSBwaWNrZXIgZWxlbWVudC4KICogQHBhcmFtIHtzdHJpbmd9IG91dHB1dElkIEVsZW1lbnQgSUQgb2YgdGhlIG91dHB1dCBkaXNwbGF5LgogKiBAcmV0dXJuIHshSXRlcmFibGU8IU9iamVjdD59IEl0ZXJhYmxlIG9mIG5leHQgc3RlcHMuCiAqLwpmdW5jdGlvbiogdXBsb2FkRmlsZXNTdGVwKGlucHV0SWQsIG91dHB1dElkKSB7CiAgY29uc3QgaW5wdXRFbGVtZW50ID0gZG9jdW1lbnQuZ2V0RWxlbWVudEJ5SWQoaW5wdXRJZCk7CiAgaW5wdXRFbGVtZW50LmRpc2FibGVkID0gZmFsc2U7CgogIGNvbnN0IG91dHB1dEVsZW1lbnQgPSBkb2N1bWVudC5nZXRFbGVtZW50QnlJZChvdXRwdXRJZCk7CiAgb3V0cHV0RWxlbWVudC5pbm5lckhUTUwgPSAnJzsKCiAgY29uc3QgcGlja2VkUHJvbWlzZSA9IG5ldyBQcm9taXNlKChyZXNvbHZlKSA9PiB7CiAgICBpbnB1dEVsZW1lbnQuYWRkRXZlbnRMaXN0ZW5lcignY2hhbmdlJywgKGUpID0+IHsKICAgICAgcmVzb2x2ZShlLnRhcmdldC5maWxlcyk7CiAgICB9KTsKICB9KTsKCiAgY29uc3QgY2FuY2VsID0gZG9jdW1lbnQuY3JlYXRlRWxlbWVudCgnYnV0dG9uJyk7CiAgaW5wdXRFbGVtZW50LnBhcmVudEVsZW1lbnQuYXBwZW5kQ2hpbGQoY2FuY2VsKTsKICBjYW5jZWwudGV4dENvbnRlbnQgPSAnQ2FuY2VsIHVwbG9hZCc7CiAgY29uc3QgY2FuY2VsUHJvbWlzZSA9IG5ldyBQcm9taXNlKChyZXNvbHZlKSA9PiB7CiAgICBjYW5jZWwub25jbGljayA9ICgpID0+IHsKICAgICAgcmVzb2x2ZShudWxsKTsKICAgIH07CiAgfSk7CgogIC8vIENhbmNlbCB1cGxvYWQgaWYgdXNlciBoYXNuJ3QgcGlja2VkIGFueXRoaW5nIGluIHRpbWVvdXQuCiAgY29uc3QgdGltZW91dFByb21pc2UgPSBuZXcgUHJvbWlzZSgocmVzb2x2ZSkgPT4gewogICAgc2V0VGltZW91dCgoKSA9PiB7CiAgICAgIHJlc29sdmUobnVsbCk7CiAgICB9LCBGSUxFX0NIQU5HRV9USU1FT1VUX01TKTsKICB9KTsKCiAgLy8gV2FpdCBmb3IgdGhlIHVzZXIgdG8gcGljayB0aGUgZmlsZXMuCiAgY29uc3QgZmlsZXMgPSB5aWVsZCB7CiAgICBwcm9taXNlOiBQcm9taXNlLnJhY2UoW3BpY2tlZFByb21pc2UsIHRpbWVvdXRQcm9taXNlLCBjYW5jZWxQcm9taXNlXSksCiAgICByZXNwb25zZTogewogICAgICBhY3Rpb246ICdzdGFydGluZycsCiAgICB9CiAgfTsKCiAgaWYgKCFmaWxlcykgewogICAgcmV0dXJuIHsKICAgICAgcmVzcG9uc2U6IHsKICAgICAgICBhY3Rpb246ICdjb21wbGV0ZScsCiAgICAgIH0KICAgIH07CiAgfQoKICBjYW5jZWwucmVtb3ZlKCk7CgogIC8vIERpc2FibGUgdGhlIGlucHV0IGVsZW1lbnQgc2luY2UgZnVydGhlciBwaWNrcyBhcmUgbm90IGFsbG93ZWQuCiAgaW5wdXRFbGVtZW50LmRpc2FibGVkID0gdHJ1ZTsKCiAgZm9yIChjb25zdCBmaWxlIG9mIGZpbGVzKSB7CiAgICBjb25zdCBsaSA9IGRvY3VtZW50LmNyZWF0ZUVsZW1lbnQoJ2xpJyk7CiAgICBsaS5hcHBlbmQoc3BhbihmaWxlLm5hbWUsIHtmb250V2VpZ2h0OiAnYm9sZCd9KSk7CiAgICBsaS5hcHBlbmQoc3BhbigKICAgICAgICBgKCR7ZmlsZS50eXBlIHx8ICduL2EnfSkgLSAke2ZpbGUuc2l6ZX0gYnl0ZXMsIGAgKwogICAgICAgIGBsYXN0IG1vZGlmaWVkOiAkewogICAgICAgICAgICBmaWxlLmxhc3RNb2RpZmllZERhdGUgPyBmaWxlLmxhc3RNb2RpZmllZERhdGUudG9Mb2NhbGVEYXRlU3RyaW5nKCkgOgogICAgICAgICAgICAgICAgICAgICAgICAgICAgICAgICAgICAnbi9hJ30gLSBgKSk7CiAgICBjb25zdCBwZXJjZW50ID0gc3BhbignMCUgZG9uZScpOwogICAgbGkuYXBwZW5kQ2hpbGQocGVyY2VudCk7CgogICAgb3V0cHV0RWxlbWVudC5hcHBlbmRDaGlsZChsaSk7CgogICAgY29uc3QgZmlsZURhdGFQcm9taXNlID0gbmV3IFByb21pc2UoKHJlc29sdmUpID0+IHsKICAgICAgY29uc3QgcmVhZGVyID0gbmV3IEZpbGVSZWFkZXIoKTsKICAgICAgcmVhZGVyLm9ubG9hZCA9IChlKSA9PiB7CiAgICAgICAgcmVzb2x2ZShlLnRhcmdldC5yZXN1bHQpOwogICAgICB9OwogICAgICByZWFkZXIucmVhZEFzQXJyYXlCdWZmZXIoZmlsZSk7CiAgICB9KTsKICAgIC8vIFdhaXQgZm9yIHRoZSBkYXRhIHRvIGJlIHJlYWR5LgogICAgbGV0IGZpbGVEYXRhID0geWllbGQgewogICAgICBwcm9taXNlOiBmaWxlRGF0YVByb21pc2UsCiAgICAgIHJlc3BvbnNlOiB7CiAgICAgICAgYWN0aW9uOiAnY29udGludWUnLAogICAgICB9CiAgICB9OwoKICAgIC8vIFVzZSBhIGNodW5rZWQgc2VuZGluZyB0byBhdm9pZCBtZXNzYWdlIHNpemUgbGltaXRzLiBTZWUgYi82MjExNTY2MC4KICAgIGxldCBwb3NpdGlvbiA9IDA7CiAgICB3aGlsZSAocG9zaXRpb24gPCBmaWxlRGF0YS5ieXRlTGVuZ3RoKSB7CiAgICAgIGNvbnN0IGxlbmd0aCA9IE1hdGgubWluKGZpbGVEYXRhLmJ5dGVMZW5ndGggLSBwb3NpdGlvbiwgTUFYX1BBWUxPQURfU0laRSk7CiAgICAgIGNvbnN0IGNodW5rID0gbmV3IFVpbnQ4QXJyYXkoZmlsZURhdGEsIHBvc2l0aW9uLCBsZW5ndGgpOwogICAgICBwb3NpdGlvbiArPSBsZW5ndGg7CgogICAgICBjb25zdCBiYXNlNjQgPSBidG9hKFN0cmluZy5mcm9tQ2hhckNvZGUuYXBwbHkobnVsbCwgY2h1bmspKTsKICAgICAgeWllbGQgewogICAgICAgIHJlc3BvbnNlOiB7CiAgICAgICAgICBhY3Rpb246ICdhcHBlbmQnLAogICAgICAgICAgZmlsZTogZmlsZS5uYW1lLAogICAgICAgICAgZGF0YTogYmFzZTY0LAogICAgICAgIH0sCiAgICAgIH07CiAgICAgIHBlcmNlbnQudGV4dENvbnRlbnQgPQogICAgICAgICAgYCR7TWF0aC5yb3VuZCgocG9zaXRpb24gLyBmaWxlRGF0YS5ieXRlTGVuZ3RoKSAqIDEwMCl9JSBkb25lYDsKICAgIH0KICB9CgogIC8vIEFsbCBkb25lLgogIHlpZWxkIHsKICAgIHJlc3BvbnNlOiB7CiAgICAgIGFjdGlvbjogJ2NvbXBsZXRlJywKICAgIH0KICB9Owp9CgpzY29wZS5nb29nbGUgPSBzY29wZS5nb29nbGUgfHwge307CnNjb3BlLmdvb2dsZS5jb2xhYiA9IHNjb3BlLmdvb2dsZS5jb2xhYiB8fCB7fTsKc2NvcGUuZ29vZ2xlLmNvbGFiLl9maWxlcyA9IHsKICBfdXBsb2FkRmlsZXMsCiAgX3VwbG9hZEZpbGVzQ29udGludWUsCn07Cn0pKHNlbGYpOwo=",
              "ok": true,
              "headers": [
                [
                  "content-type",
                  "application/javascript"
                ]
              ],
              "status": 200,
              "status_text": ""
            }
          },
          "base_uri": "https://localhost:8080/",
          "height": 72
        }
      },
      "source": [
        "uploaded = files.upload()"
      ],
      "execution_count": 0,
      "outputs": [
        {
          "output_type": "display_data",
          "data": {
            "text/html": [
              "\n",
              "     <input type=\"file\" id=\"files-61567b80-4cfb-4df3-84c6-fb4f81a93617\" name=\"files[]\" multiple disabled />\n",
              "     <output id=\"result-61567b80-4cfb-4df3-84c6-fb4f81a93617\">\n",
              "      Upload widget is only available when the cell has been executed in the\n",
              "      current browser session. Please rerun this cell to enable.\n",
              "      </output>\n",
              "      <script src=\"/nbextensions/google.colab/files.js\"></script> "
            ],
            "text/plain": [
              "<IPython.core.display.HTML object>"
            ]
          },
          "metadata": {
            "tags": []
          }
        },
        {
          "output_type": "stream",
          "text": [
            "Saving HF-1 formalin - pre - 10x - a - 1.jpg to HF-1 formalin - pre - 10x - a - 1.jpg\n"
          ],
          "name": "stdout"
        }
      ]
    },
    {
      "cell_type": "code",
      "metadata": {
        "id": "F-UBGTwmrQYb",
        "colab_type": "code",
        "colab": {}
      },
      "source": [
        "class Graph: \n",
        "  \n",
        "    def __init__(self, row, col, g): \n",
        "        self.ROW = row \n",
        "        self.COL = col \n",
        "        self.graph = g \n",
        "\n",
        "    def isSafe(self, i, j, visited): \n",
        "            # row number is in range, column number \n",
        "            # is in range and value is 1  \n",
        "            # and not yet visited \n",
        "            return (i >= 0 and i < self.ROW and \n",
        "                    j >= 0 and j < self.COL and \n",
        "                    not visited[i][j] and self.graph[i][j]) \n",
        "      \n",
        "        # A utility function to do DFS for a 2D  \n",
        "        # boolean matrix. It only considers \n",
        "        # the 8 neighbours as adjacent vertices \n",
        "    def DFS(self, i, j, visited, island): \n",
        "\n",
        "        # These arrays are used to get row and  \n",
        "        # column numbers of 8 neighbours  \n",
        "        # of a given cell \n",
        "        rowNbr = [-1, 0, 1, 0]; \n",
        "        colNbr = [0,  -1, 0, 1]; \n",
        "          \n",
        "        # Mark this cell as visited \n",
        "        visited[i][j] = True\n",
        "\n",
        "        # Recur for all connected neighbours \n",
        "        for k in range(4): \n",
        "            if self.isSafe(i + rowNbr[k], j + colNbr[k], visited): \n",
        "                island.append((i + rowNbr[k], j + colNbr[k]))\n",
        "                self.DFS(i + rowNbr[k], j + colNbr[k], visited, island) \n",
        "\n",
        "\n",
        "    def findIslands(self): \n",
        "        # Make a bool array to mark visited cells. \n",
        "        # Initially all cells are unvisited \n",
        "        visited = [[False for j in range(self.COL)]for i in range(self.ROW)] \n",
        "        # Initialize count as 0 and travese  \n",
        "        # through the all cells of \n",
        "        # given matrix \n",
        "        index = 0\n",
        "        islands = []\n",
        "        for i in range(self.ROW): \n",
        "            for j in range(self.COL): \n",
        "                # If a cell with value 1 is not visited yet,  \n",
        "                # then new island found \n",
        "                if visited[i][j] == False and self.graph[i][j] == 1: \n",
        "                    # Visit all cells in this island  \n",
        "                    # and increment island count\n",
        "                    island = []\n",
        "                    self.DFS(i, j, visited, island)\n",
        "                    islands.append(island) \n",
        "                    index += 1\n",
        "        return islands \n",
        "\n",
        "def filter_islands(islands, original_mask, min_size=10):\n",
        "  new_mask = np.zeros(original_mask.shape)\n",
        "  for island in islands:\n",
        "    if len(island) >= min_size: # filters out small tears and holes\n",
        "      max_x = float(\"-inf\")\n",
        "      min_x = float(\"inf\")\n",
        "      max_y = float(\"-inf\")\n",
        "      min_y = float(\"inf\")\n",
        "      for x, y in island:\n",
        "        if x > max_x:\n",
        "          max_x = x\n",
        "        if x < min_x:\n",
        "          min_x = x\n",
        "        if y > max_y:\n",
        "          max_y = y\n",
        "        if y < min_y:\n",
        "          min_y = y\n",
        "      r_x = max_x - min_x\n",
        "      r_y = max_y - min_y\n",
        "\n",
        "      ellipse_area = 3.14159*r_x*r_y\n",
        "\n",
        "\n",
        "      if len(island) > 50 and ellipse_area > 0 and len(island) / (ellipse_area) > .125 and (r_x/r_y < 1.75 and r_x/r_y > 0.5): #filters out non-ellipsoid shapes and tears; 20, 2\n",
        "        keep = True\n",
        "      # elif  len(island) <= 10 and ellipse_area > 0:\n",
        "      #   keep = True\n",
        "      else:\n",
        "        keep = False\n",
        "      \n",
        "      if keep == True:\n",
        "        for x, y in island:\n",
        "          new_mask[x][y] = 1\n",
        "\n",
        "  return new_mask\n",
        "\n",
        "def nodule_percentage(img):\n",
        "    count = cv2.countNonZero(img)  # 0 is black -> nonzero is white\n",
        "    area = 190220.0\n",
        "    print('Globule area:', count, '  Estimate of Total Area:', area, '  Globule Percentage:', count/area)\n",
        "\n",
        "def draw_contours(contours, hierarchy, shape):\n",
        "    ret = np.zeros(shape)\n",
        "    hull = []\n",
        "    for i in range(len(contours)):\n",
        "        hull.append(cv2.convexHull(contours[i], False))\n",
        "    \n",
        "    coords = []\n",
        "    for i in range(len(contours)):\n",
        "        contour = contours[i]\n",
        "        contour_area = cv2.contourArea(contour)\n",
        "        hull_area = cv2.contourArea(hull[i])\n",
        "        if hull_area - contour_area < .1*contour_area:\n",
        "            for row in range(len(contour)):\n",
        "                for col in range(len(contour[row])):\n",
        "                    x, y = contour[row][col]\n",
        "                    ret[y][x] = 255\n",
        "                    coords.append((x,y))\n",
        "    #cv2_imshow(ret)\n",
        "    return ret\n"
      ],
      "execution_count": 0,
      "outputs": []
    },
    {
      "cell_type": "code",
      "metadata": {
        "id": "a2Nzj8qH76hL",
        "colab_type": "code",
        "colab": {}
      },
      "source": [
        "for file_name in uploaded.keys():\n",
        "    def get_binary(file_name):\n",
        "      image = cv2.imread(file_name) \n",
        "      print(image.shape)\n",
        "      gray = cv2.cvtColor(image, cv2.COLOR_BGR2GRAY) \n",
        "      gray = np.where(gray<=100, 0, gray) \n",
        "      gray = np.where(gray>=200, 255, gray)\n",
        "      gray = cv2.GaussianBlur(gray, (3,3), 1)\n",
        "      _, binary = cv2.threshold(gray, 222, 255, cv2.THRESH_BINARY)\n",
        "      binary = binary_opening(binary, disk(1))\n",
        "      return image, gray, binary.astype(np.uint8)\n",
        "\n",
        "    image, gray, binary = get_binary(file_name)\n",
        "    np_graph = binary\n",
        "    graph = np_graph.tolist()\n",
        "    row = len(graph) \n",
        "    col = len(graph[0]) \n",
        "  \n",
        "    g = Graph(row, col, graph) \n",
        "    print(g.graph)\n",
        "    islands = g.findIslands()\n",
        "    new_mask = filter_islands(islands, np_graph, min_size=1).astype(np.uint8)\n",
        "\n",
        "    new_mask_g = Graph(row, col, new_mask.tolist())\n",
        "    new_mask_islands = g.findIslands()\n",
        "\n",
        "    contours, hierarchy = cv2.findContours(new_mask, cv2.RETR_EXTERNAL, cv2.CHAIN_APPROX_NONE)   \n",
        "    c = draw_contours(contours, hierarchy, image.shape)\n",
        "    nodule_percentage(new_mask)\n",
        "\n",
        "    fig, axes = plt.subplots(1, 6, figsize=(30, 30))\n",
        "    ax = axes.ravel()\n",
        "    ax[0].imshow(image)\n",
        "    ax[0].set_title(\"Original\")\n",
        "    ax[1].imshow(gray, cmap=plt.cm.gray)\n",
        "    ax[1].set_title(\"Grayscale\")\n",
        "    ax[2].imshow(binary, cmap=plt.cm.gray)\n",
        "    ax[2].set_title(\"Binary\")\n",
        "    ax[3].imshow(new_mask, cmap=plt.cm.gray)\n",
        "    ax[3].set_title(\"New Mask\")\n",
        "    ax[4].imshow(new_mask, cmap=plt.cm.gray)\n",
        "    ax[4].imshow(image, alpha=0.6)\n",
        "    ax[4].set_title(\"Overlay\")\n",
        "    ax[5].imshow(c)\n",
        "    ax[5].set_title(\"Contours\")\n",
        "    "
      ],
      "execution_count": 0,
      "outputs": []
    },
    {
      "cell_type": "code",
      "metadata": {
        "id": "6pAtyi5E2i4G",
        "colab_type": "code",
        "colab": {}
      },
      "source": [
        ""
      ],
      "execution_count": 0,
      "outputs": []
    }
  ]
}